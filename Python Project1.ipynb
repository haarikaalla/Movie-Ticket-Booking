{
 "cells": [
  {
   "cell_type": "code",
   "execution_count": null,
   "id": "98dadde3-f5b6-4f94-a9f6-35ba84535f94",
   "metadata": {},
   "outputs": [],
   "source": []
  },
  {
   "cell_type": "code",
   "execution_count": 21,
   "id": "17b0aaed-ff51-4bca-a80e-dcb3a800fa0a",
   "metadata": {},
   "outputs": [],
   "source": [
    "def city():\n",
    "    print(\"Welcome to Book my application\")\n",
    "    print(\"please select your city\\n 1.Banglore \\n 2.Pune \\n 3.Delhi \\n 4.Mumbai\")\n",
    "    c=int(input())\n",
    "    if c==1:\n",
    "        print(\"you have selected Banglore\")\n",
    "    elif c==2:\n",
    "        print(\"you have selected Pune\")\n",
    "    elif c==3:\n",
    "        print(\"you have selected Delhi\")\n",
    "    elif c==4:\n",
    "        print(\"you have selected Mumbai\")\n",
    "    else:\n",
    "        print(\"Please choose a valid\")\n",
    "        city()\n",
    "    t_movie()"
   ]
  },
  {
   "cell_type": "code",
   "execution_count": 22,
   "id": "817c9561-cab4-46f5-82d3-21ba372d8e93",
   "metadata": {},
   "outputs": [],
   "source": [
    "def t_movie():\n",
    "    print(\"Please select the movie which you want to watch \\n 1.xyz \\n 2.pqr \\n 3.opq \\n 4.back\")\n",
    "    t=int(input())\n",
    "    if t==1:\n",
    "        print(\"you have selected movie..\")\n",
    "    elif t==2:\n",
    "        print(\"\")\n",
    "    elif t==3:\n",
    "        print(\"\")\n",
    "    elif t==4:\n",
    "        city()\n",
    "    else:\n",
    "        print(\"Please choose a valid\")\n",
    "        t_movie()\n",
    "    theatre()"
   ]
  },
  {
   "cell_type": "code",
   "execution_count": 23,
   "id": "1d4a3c48-137f-4a04-83f8-f84e62ea3635",
   "metadata": {},
   "outputs": [],
   "source": [
    "def theatre():\n",
    "    print(\"Please select the Theatre\\n1.INOX\\n2.PVR\\n3.back\")\n",
    "    h=int(input())\n",
    "    if h==1:\n",
    "        print(\"You have selected INOX\")\n",
    "    elif h==2:\n",
    "        print(\"You have selected PVR\")\n",
    "    elif h==3:\n",
    "        t_movie()\n",
    "    else:\n",
    "        print(\"Please enter a valid option\")\n",
    "        theatre()\n",
    "    screen()\n",
    "        "
   ]
  },
  {
   "cell_type": "code",
   "execution_count": 24,
   "id": "4ed45bc0-03c0-4525-9589-3cdb5f27d1f4",
   "metadata": {},
   "outputs": [],
   "source": [
    "def screen():\n",
    "    print(\"choose your screen 1.Screen \\n 2. Screen 2 \\n 3.Screen 3 \\n 4.back\")\n",
    "    s=int(input(\"select screen\"))\n",
    "    if s==1:\n",
    "        print(\"\")\n",
    "    elif s==2:\n",
    "        print(\"\")\n",
    "    elif s==3:\n",
    "        print(\"\")\n",
    "    elif s==4:\n",
    "        theatre()\n",
    "    else:\n",
    "        print(\"\")\n",
    "        screen()\n",
    "    timing(s)\n",
    "    "
   ]
  },
  {
   "cell_type": "code",
   "execution_count": 25,
   "id": "d1c1d53b-0e1f-4988-8470-f2e9942a43f6",
   "metadata": {},
   "outputs": [],
   "source": [
    "def timing(s):\n",
    "    slot1={\"1\":\"10.00-1.00\",\"2\":\"1.10-4.10\",\"3\":\"4.20-7.20\",\"4\":\"7.30-10.30\"}\n",
    "    slot2={\"1\":\"10.15-1.15\",\"2\":\"1.25-4.25\",\"3\":\"4.35-7.35\",\"4\":\"7.45-10.45\"}\n",
    "    slot3={\"1\":\"10.30-1.30\",\"2\":\"1.40-4.40\",\"3\":\"4.50-7.50\",\"4\":\"8.00-10.45\"}\n",
    "    print(\"please select the timing 1. slot 1 \\n 2. slot 2 \\n 3. slot 3 \\n 4. back\") \n",
    "    if s==1:\n",
    "        print(\"please select the timing\")\n",
    "        time=input()\n",
    "        print(\"selected time is\",slot1[time])\n",
    "    elif s==2:\n",
    "        print(\"please select the timing\")\n",
    "        time=input()\n",
    "        print(\"selected time is\",slot2[time])\n",
    "    elif s==3:\n",
    "        print(\"please select the timing\")\n",
    "        time=input()\n",
    "        print(\"selected time is\",slot3[time])\n",
    "    else:\n",
    "        print(\"please enter valid option\")\n",
    "        screen()\n",
    "        timing(s)()\n",
    "        \n",
    "        "
   ]
  },
  {
   "cell_type": "code",
   "execution_count": 26,
   "id": "bf45aac0-7906-4fdd-bda2-ecb66fe8d888",
   "metadata": {},
   "outputs": [
    {
     "name": "stdout",
     "output_type": "stream",
     "text": [
      "Welcome to Book my application\n",
      "please select your city\n",
      " 1.Banglore \n",
      " 2.Pune \n",
      " 3.Delhi \n",
      " 4.Mumbai\n"
     ]
    },
    {
     "name": "stdin",
     "output_type": "stream",
     "text": [
      " 1\n"
     ]
    },
    {
     "name": "stdout",
     "output_type": "stream",
     "text": [
      "you have selected Banglore\n",
      "Please select the movie which you want to watch \n",
      " 1.xyz \n",
      " 2.pqr \n",
      " 3.opq \n",
      " 4.back\n"
     ]
    },
    {
     "name": "stdin",
     "output_type": "stream",
     "text": [
      " 1\n"
     ]
    },
    {
     "name": "stdout",
     "output_type": "stream",
     "text": [
      "you have selected movie..\n",
      "Please select the Theatre\n",
      "1.INOX\n",
      "2.PVR\n",
      "3.back\n"
     ]
    },
    {
     "name": "stdin",
     "output_type": "stream",
     "text": [
      " 1\n"
     ]
    },
    {
     "name": "stdout",
     "output_type": "stream",
     "text": [
      "You have selected INOX\n",
      "choose your screen 1.Screen \n",
      " 2. Screen 2 \n",
      " 3.Screen 3 \n",
      " 4.back\n"
     ]
    },
    {
     "name": "stdin",
     "output_type": "stream",
     "text": [
      "select screen 1\n"
     ]
    },
    {
     "name": "stdout",
     "output_type": "stream",
     "text": [
      "\n",
      "please select the timing 1. slot 1 \n",
      " 2. slot 2 \n",
      " 3. slot 3 \n",
      " 4. back\n",
      "please select the timing\n"
     ]
    },
    {
     "name": "stdin",
     "output_type": "stream",
     "text": [
      " 1\n"
     ]
    },
    {
     "name": "stdout",
     "output_type": "stream",
     "text": [
      "selected time is 10.00-1.00\n"
     ]
    }
   ],
   "source": [
    "city()"
   ]
  },
  {
   "cell_type": "code",
   "execution_count": null,
   "id": "7725160f-6a6a-4f73-a1ad-e845deba67d7",
   "metadata": {},
   "outputs": [],
   "source": []
  }
 ],
 "metadata": {
  "kernelspec": {
   "display_name": "Python 3 (ipykernel)",
   "language": "python",
   "name": "python3"
  },
  "language_info": {
   "codemirror_mode": {
    "name": "ipython",
    "version": 3
   },
   "file_extension": ".py",
   "mimetype": "text/x-python",
   "name": "python",
   "nbconvert_exporter": "python",
   "pygments_lexer": "ipython3",
   "version": "3.12.8"
  }
 },
 "nbformat": 4,
 "nbformat_minor": 5
}
